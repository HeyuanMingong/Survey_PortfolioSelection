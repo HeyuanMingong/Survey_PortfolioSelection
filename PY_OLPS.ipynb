{
  "nbformat": 4,
  "nbformat_minor": 0,
  "metadata": {
    "colab": {
      "name": "PY_OLPS.ipynb",
      "provenance": [],
      "collapsed_sections": [],
      "include_colab_link": true
    },
    "kernelspec": {
      "name": "python3",
      "display_name": "Python 3"
    }
  },
  "cells": [
    {
      "cell_type": "markdown",
      "metadata": {
        "id": "view-in-github",
        "colab_type": "text"
      },
      "source": [
        "<a href=\"https://colab.research.google.com/github/etccapital/Survey_PortfolioSelection/blob/master/PY_OLPS.ipynb\" target=\"_parent\"><img src=\"https://colab.research.google.com/assets/colab-badge.svg\" alt=\"Open In Colab\"/></a>"
      ]
    },
    {
      "cell_type": "markdown",
      "metadata": {
        "id": "JTFNcSc_3efD",
        "colab_type": "text"
      },
      "source": [
        "# Online Portfolio Selection\n",
        "A Survey with Python Implementattion by ETC Quant\n",
        "\n",
        "\n"
      ]
    },
    {
      "cell_type": "markdown",
      "metadata": {
        "id": "7HQsHh_86Pw5",
        "colab_type": "text"
      },
      "source": [
        "Problem Setting"
      ]
    },
    {
      "cell_type": "markdown",
      "metadata": {
        "id": "bAOCQ0Ge29fH",
        "colab_type": "text"
      },
      "source": [
        "**Strategy 1: Benchmarks** \\\\\n",
        "**Strategy 1.1: Buy and Hold Strategy (abbr. BAH)**\n",
        "> This strategy states that a portfolio manager will invest wealth among a pool of assets with an initial portfolio $\\mathbf{b_{1}}$ and hold until the end. The final cumulative wealth achieved by a BAH strategy is initial portfolio weighted average of individual stocks' final wealth.\n",
        "$S_n(BAH(\\mathbf{b_1})) = \\mathbf{b_1} \\cdot (\\odot_{t=1}^{n}\\mathbf{x_t})$ \\\\\n",
        "**Strategy 1.2: Buy and Hold Strategy (abbr. BAH)**\n",
        "\n",
        "\n"
      ]
    },
    {
      "cell_type": "code",
      "metadata": {
        "id": "ignD_y_d4tb9",
        "colab_type": "code",
        "colab": {}
      },
      "source": [
        ""
      ],
      "execution_count": 0,
      "outputs": []
    },
    {
      "cell_type": "markdown",
      "metadata": {
        "colab_type": "text",
        "id": "Z67lO6OE8ol8"
      },
      "source": [
        "**Strategy 3: Follow-the-Loser Approach** \\\\\n",
        "  The underlying assumption for the optimality of BCRP is that market is identical in distribution, which does not hold in real world data and thus often leads to inferior empirical performances. In contrast to Follow-the-Winner, this strategy transfer the assets from the outperforming assets to the underperforming ones. \\\\\n",
        "  \\\\\n",
        "  The underlying assumptions is mean reversion[Bondt and Thaler 1985, Poterba and Summers 1988, Lo and Mackinlay 1990]. That is, the overperforming(underperforming) assets will perform poor(good) in the following periods. \n"
      ]
    },
    {
      "cell_type": "markdown",
      "metadata": {
        "id": "7k5mGex9EjpP",
        "colab_type": "text"
      },
      "source": [
        "\n",
        "\n",
        "1.   **Anti-Correlation**\n",
        "\n",
        "Anti-correlation strategy, a.k.a Anticor, assumes that the market follows the mean reversion principle. To exploit such property, it statistically makes bet on the consistency of postive lagged cross-correlation and negative auto-correlation.\n",
        "\n",
        "Such, Anticor adopts logarithmic price relatives[Hull 2008] in two specific market windows in two specific market windows, that is, $y_1 = \\log{x^{t-w}_{t-2w+1}}$ and\n",
        "$y_2 = \\log{x^{t}_{t-w+1}}$\n",
        "\n",
        "It then calculates the cross-correlation matrix between $y_1$ and $y_2$.\n"
      ]
    },
    {
      "cell_type": "code",
      "metadata": {
        "id": "qQyjABkWEjRv",
        "colab_type": "code",
        "colab": {}
      },
      "source": [
        "Class Anticor(Algo):\n",
        "  \"\"\"This strategy\"\"\"\n",
        "  def __init__(self, window: int):\n",
        "    \"\"\"\"\"\"\n",
        "    self.window = window\n",
        "    pass\n",
        "  \n",
        "  def rebalance(self, x):\n",
        "    pass"
      ],
      "execution_count": 0,
      "outputs": []
    },
    {
      "cell_type": "markdown",
      "metadata": {
        "id": "UwVmu-Dz6Mqy",
        "colab_type": "text"
      },
      "source": [
        "**Strategy 4: Pattern Matching based Approaches**\n"
      ]
    }
  ]
}